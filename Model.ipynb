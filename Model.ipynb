{
  "cells": [
    {
      "cell_type": "code",
      "execution_count": 2,
      "id": "a465839a",
      "metadata": {
        "id": "a465839a"
      },
      "outputs": [],
      "source": [
        "import torch\n",
        "import torch.nn as nn\n",
        "import torch.nn.functional as F\n",
        "import torch.optim as optim\n",
        "import torchvision\n",
        "from torchvision import datasets, transforms\n",
        "from torch.utils.data import DataLoader\n",
        "from PIL import Image\n",
        "import os\n",
        "from torchvision.transforms import RandomErasing\n",
        "from torch.utils.data import ConcatDataset\n",
        "\n",
        "\n",
        "batch_multi = 1\n",
        "\n",
        "def load_flowers102():\n",
        "    transformTrain1 = transforms.Compose([\n",
        "    transforms.RandomResizedCrop(224),\n",
        "    transforms.RandomHorizontalFlip(),\n",
        "    transforms.RandomVerticalFlip(),\n",
        "    transforms.RandomRotation(30),\n",
        "    #transforms.RandomAffine(degrees=0, translate=(0.1, 0.1), scale=(0.8, 1.2)),  # New affine transformation\n",
        "    #transforms.GaussianBlur(kernel_size=(5, 5), sigma=(0.1, 2.0)),  # More aggressive blurring\n",
        "    transforms.ToTensor(),\n",
        "    #RandomErasing(0.5, (0.02, 0.33)),\n",
        "    transforms.Normalize(mean=[0.485, 0.456, 0.406], std=[0.229, 0.224, 0.225]),\n",
        "])\n",
        "    transformTrain2 = transforms.Compose([\n",
        "    transforms.RandomResizedCrop(224),\n",
        "    transforms.RandomHorizontalFlip(),\n",
        "    transforms.RandomVerticalFlip(),\n",
        "    transforms.RandomRotation(50),\n",
        "    #transforms.RandomAffine(degrees=0, translate=(0.1, 0.1), scale=(0.8, 1.2)),  # New affine transformation\n",
        "    transforms.GaussianBlur(kernel_size=(5, 5), sigma=(0.1, 2.0)),  # More aggressive blurring\n",
        "    transforms.ToTensor(),\n",
        "    #RandomErasing(0.5, (0.02, 0.33)),\n",
        "    transforms.Normalize(mean=[0.485, 0.456, 0.406], std=[0.229, 0.224, 0.225]),\n",
        "])\n",
        "    transformTrain3 = transforms.Compose([\n",
        "    transforms.RandomResizedCrop(224),\n",
        "    transforms.RandomRotation(80),\n",
        "    transforms.ColorJitter(brightness=0.2, contrast=0.2, saturation=0.2, hue=0.1),\n",
        "    #transforms.RandomAffine(degrees=0, translate=(0.1, 0.1), scale=(0.8, 1.2)),  # New affine transformation\n",
        "    #transforms.GaussianBlur(kernel_size=(5, 5), sigma=(0.1, 2.0)),  # More aggressive blurring\n",
        "    transforms.RandomPerspective(distortion_scale=0.5, p=0.5),\n",
        "    transforms.ToTensor(),\n",
        "    RandomErasing(0.5, (0.02, 0.33)),\n",
        "    transforms.Normalize(mean=[0.485, 0.456, 0.406], std=[0.229, 0.224, 0.225]),\n",
        "])\n",
        "\n",
        "\n",
        "    transformTest = transforms.Compose([\n",
        "    transforms.Resize(256),\n",
        "    transforms.CenterCrop(224),\n",
        "    transforms.ToTensor(),\n",
        "    transforms.Normalize(mean=[0.485, 0.456, 0.406], std=[0.229, 0.224, 0.225]),\n",
        "])\n",
        "\n",
        "\n",
        "    train_dataset1 = torchvision.datasets.Flowers102(root='flowers102data', split='train', download=True, transform=transformTrain1)\n",
        "    train_dataset2 = torchvision.datasets.Flowers102(root='flowers102data', split='train', download=True, transform=transformTrain2)\n",
        "    train_dataset3 = torchvision.datasets.Flowers102(root='flowers102data', split='train', download=True, transform=transformTrain3)\n",
        "    train_dataset = ConcatDataset([train_dataset1, train_dataset2, train_dataset3])\n",
        "    test_dataset = torchvision.datasets.Flowers102(root='flowers102data', split='test', download=True, transform=transformTest)\n",
        "    validation_dataset = torchvision.datasets.Flowers102(root='flowers102data', split='val', download=True, transform=transformTest)\n",
        "\n",
        "    train_loader = DataLoader(train_dataset, batch_size=32 * batch_multi, shuffle=True)\n",
        "    test_loader = DataLoader(test_dataset, batch_size=32 * batch_multi, shuffle=False)\n",
        "    validation_loader = DataLoader(validation_dataset, batch_size=32 * batch_multi, shuffle=False)\n",
        "\n",
        "    return train_loader, test_loader, validation_loader\n"
      ]
    },
    {
      "cell_type": "code",
      "execution_count": 3,
      "id": "bea7f8df",
      "metadata": {
        "id": "bea7f8df"
      },
      "outputs": [],
      "source": [
        "def set_device():\n",
        "    if torch.cuda.is_available():\n",
        "      print('cuda')\n",
        "      return torch.device(\"cuda\")\n",
        "    if torch.backends.mps.is_available():\n",
        "        return torch.device(\"mps\")\n",
        "    else:\n",
        "        return torch.device(\"cpu\") \n",
        "\n",
        "\n",
        "device = set_device()\n"
      ]
    },
    {
      "cell_type": "code",
<<<<<<< Updated upstream
      "execution_count": 18,
=======
      "execution_count": 4,
>>>>>>> Stashed changes
      "id": "5563d5e7",
      "metadata": {
        "id": "5563d5e7"
      },
      "outputs": [],
      "source": [
        "class simpleCNN(nn.Module):\n",
        "    def __init__(self):\n",
        "        super(simpleCNN, self).__init__()\n",
        "        self.conv1 = nn.Conv2d(3, 64, 3, padding=1)\n",
        "        self.conv2 = nn.Conv2d(64, 128, 3, padding=1)\n",
        "        self.conv3 = nn.Conv2d(128, 256, 3, padding=1)\n",
        "        self.conv4 = nn.Conv2d(256, 512, 3, padding=1)\n",
        "        self.pool = nn.MaxPool2d(2, 2)\n",
        "        self.dropout = nn.Dropout(0.5)\n",
        "        self.fc1 = nn.Linear(512 * 14 * 14, 1024)  \n",
        "        self.fc2 = nn.Linear(1024, 102)\n",
        "\n",
        "    def forward(self, x):\n",
        "        x = self.pool(F.relu(self.conv1(x)))\n",
        "        x = self.pool(F.relu(self.conv2(x)))\n",
        "        x = self.pool(F.relu(self.conv3(x)))\n",
        "        x = self.pool(F.relu(self.conv4(x)))\n",
        "        x = torch.flatten(x, 1)\n",
        "        x = F.relu(self.fc1(x))\n",
        "        x = self.dropout(x)\n",
        "        x = self.fc2(x)\n",
        "        return x"
      ]
    },
    {
      "cell_type": "code",
<<<<<<< Updated upstream
      "execution_count": 19,
=======
      "execution_count": 5,
>>>>>>> Stashed changes
      "id": "2debd59a",
      "metadata": {
        "id": "2debd59a"
      },
      "outputs": [],
      "source": [
        "import matplotlib.pyplot as plt\n",
        "\n",
        "def train_model(model, train_loader, validation_loader, criterion, optimizer, scheduler, patience=5, num_epochs=10):\n",
        "    train_losses = []\n",
        "    val_losses = []\n",
        "    best_val_loss = float('inf')\n",
        "    current_patience = 0\n",
        "\n",
        "    for epoch in range(num_epochs):\n",
        "        total_train_loss = 0\n",
        "        total_val_loss = 0\n",
        "\n",
        "        # Training phase\n",
        "        model.train()\n",
        "        for images, labels in train_loader:\n",
        "            images, labels = images.to(device), labels.to(device)\n",
        "            optimizer.zero_grad()\n",
        "            outputs = model(images)\n",
        "            loss = criterion(outputs, labels)\n",
        "            loss.backward()\n",
        "            optimizer.step()\n",
        "            total_train_loss += loss.item()\n",
        "\n",
        "        # Validation phase\n",
        "        model.eval()\n",
        "        with torch.no_grad():\n",
        "            for images, labels in validation_loader:\n",
        "                images, labels = images.to(device), labels.to(device)\n",
        "                outputs = model(images)\n",
        "                loss = criterion(outputs, labels)\n",
        "                total_val_loss += loss.item()\n",
        "\n",
        "        avg_train_loss = total_train_loss / len(train_loader)\n",
        "        avg_val_loss = total_val_loss / len(validation_loader)\n",
        "\n",
        "        train_losses.append(avg_train_loss)\n",
        "        val_losses.append(avg_val_loss)\n",
        "\n",
        "        print(f'Epoch {epoch+1}: Training Loss = {avg_train_loss}, Validation Loss = {avg_val_loss}')\n",
        "\n",
        "\n",
        "        scheduler.step(avg_val_loss)\n",
        "\n",
        "        current_lr = scheduler.optimizer.param_groups[0]['lr']\n",
        "        print(f\"Current Learning Rate: {current_lr}\")\n",
        "\n",
        "\n",
        "        if avg_val_loss < best_val_loss:\n",
        "            best_val_loss = avg_val_loss\n",
        "            current_patience = 0\n",
        "            torch.save(model.state_dict(), 'best_model.pth')\n",
        "        else:\n",
        "            current_patience += 1\n",
        "            if current_patience >= patience:\n",
        "                print(\"Early stopping triggered!\")\n",
        "                break\n",
        "\n",
        "\n",
        "    plt.figure(figsize=(10, 5))\n",
        "    plt.plot(train_losses, label='Training Loss')\n",
        "    plt.plot(val_losses, label='Validation Loss')\n",
        "    plt.title('Training and Validation Losses')\n",
        "    plt.xlabel('Epochs')\n",
        "    plt.ylabel('Loss')\n",
        "    plt.legend()\n",
        "    plt.grid(True)\n",
        "    plt.show()\n",
        "\n",
        "    return model\n"
      ]
    },
    {
      "cell_type": "code",
<<<<<<< Updated upstream
      "execution_count": 20,
=======
      "execution_count": 6,
>>>>>>> Stashed changes
      "id": "0f42c9fd",
      "metadata": {
        "id": "0f42c9fd"
      },
      "outputs": [],
      "source": [
        "def test_model(model, test_loader):\n",
        "    model.eval()  \n",
        "    total_correct = 0\n",
        "    total_images = 0\n",
        "    with torch.no_grad():\n",
        "        for images, labels in test_loader:\n",
        "            images, labels = images.to(device), labels.to(device)  \n",
        "            outputs = model(images)\n",
        "            _, predicted = torch.max(outputs.data, 1)\n",
        "            total_correct += (predicted == labels).sum().item()\n",
        "            total_images += labels.size(0)\n",
        "    print(f'Accuracy: {total_correct / total_images * 100:.2f}%')"
      ]
    },
    {
      "cell_type": "code",
      "execution_count": 7,
      "id": "35c0a66d",
      "metadata": {
        "colab": {
          "base_uri": "https://localhost:8080/",
          "height": 216
        },
        "id": "35c0a66d",
        "outputId": "508879da-3eaa-4c51-8db8-e7d9dbd6a34d",
        "scrolled": false
      },
      "outputs": [
        {
          "name": "stdout",
          "output_type": "stream",
          "text": [
            "Epoch 1: Training Loss = 4.450635676582654, Validation Loss = 4.010597661137581\n",
            "Current Learning Rate: 0.0001\n",
            "Epoch 2: Training Loss = 4.066291620333989, Validation Loss = 3.720936708152294\n",
            "Current Learning Rate: 0.0001\n",
            "Epoch 3: Training Loss = 3.848875311513742, Validation Loss = 3.501911886036396\n",
            "Current Learning Rate: 0.0001\n",
            "Epoch 4: Training Loss = 3.6760061532258987, Validation Loss = 3.3416626527905464\n",
            "Current Learning Rate: 0.0001\n",
            "Epoch 5: Training Loss = 3.5770808731516204, Validation Loss = 3.2201929539442062\n",
            "Current Learning Rate: 0.0001\n",
            "Epoch 6: Training Loss = 3.430436797440052, Validation Loss = 3.158564507961273\n",
            "Current Learning Rate: 0.0001\n",
            "Epoch 7: Training Loss = 3.3084630891680717, Validation Loss = 3.0167587250471115\n",
            "Current Learning Rate: 0.0001\n",
            "Epoch 8: Training Loss = 3.173905201256275, Validation Loss = 2.8870550468564034\n",
            "Current Learning Rate: 0.0001\n",
            "Epoch 9: Training Loss = 3.1296264181534448, Validation Loss = 2.84990568831563\n",
            "Current Learning Rate: 0.0001\n",
            "Epoch 10: Training Loss = 3.040517181158066, Validation Loss = 2.7607274278998375\n",
            "Current Learning Rate: 0.0001\n",
            "Epoch 11: Training Loss = 2.931317520638307, Validation Loss = 2.6702509596943855\n",
            "Current Learning Rate: 0.0001\n",
            "Epoch 12: Training Loss = 2.787208174665769, Validation Loss = 2.598848197609186\n",
            "Current Learning Rate: 0.0001\n",
            "Epoch 13: Training Loss = 2.7583957985043526, Validation Loss = 2.5659906826913357\n",
            "Current Learning Rate: 0.0001\n",
            "Epoch 14: Training Loss = 2.671414909263452, Validation Loss = 2.5571140851825476\n",
            "Current Learning Rate: 0.0001\n",
            "Epoch 15: Training Loss = 2.556711822748184, Validation Loss = 2.525555595755577\n",
            "Current Learning Rate: 0.0001\n",
            "Epoch 16: Training Loss = 2.5434148088097572, Validation Loss = 2.5140492990612984\n",
            "Current Learning Rate: 0.0001\n",
            "Epoch 17: Training Loss = 2.4720057621598244, Validation Loss = 2.5210886411368847\n",
            "Current Learning Rate: 0.0001\n",
            "Epoch 18: Training Loss = 2.3800954980154834, Validation Loss = 2.506706729531288\n",
            "Current Learning Rate: 0.0001\n",
            "Epoch 19: Training Loss = 2.3029192437728248, Validation Loss = 2.4045783281326294\n",
            "Current Learning Rate: 0.0001\n",
            "Epoch 20: Training Loss = 2.254296419521173, Validation Loss = 2.3963324278593063\n",
            "Current Learning Rate: 0.0001\n",
            "Epoch 21: Training Loss = 2.2807941089073815, Validation Loss = 2.4553019609302282\n",
            "Current Learning Rate: 0.0001\n",
            "Epoch 22: Training Loss = 2.1287254306177297, Validation Loss = 2.4101288728415966\n",
            "Current Learning Rate: 1e-05\n",
            "Epoch 23: Training Loss = 2.00140630453825, Validation Loss = 2.327300012111664\n",
            "Current Learning Rate: 1e-05\n",
            "Epoch 24: Training Loss = 1.9712792336940765, Validation Loss = 2.3318029725924134\n",
            "Current Learning Rate: 1e-05\n",
            "Epoch 25: Training Loss = 1.9284658717612426, Validation Loss = 2.3305517812259495\n",
            "Current Learning Rate: 1.0000000000000002e-06\n",
            "Epoch 26: Training Loss = 1.9351535464326541, Validation Loss = 2.3190688975155354\n",
            "Current Learning Rate: 1.0000000000000002e-06\n",
            "Epoch 27: Training Loss = 1.8829165063798428, Validation Loss = 2.324698801152408\n",
            "Current Learning Rate: 1.0000000000000002e-06\n",
            "Epoch 28: Training Loss = 1.9148564289013545, Validation Loss = 2.323317339643836\n",
            "Current Learning Rate: 1.0000000000000002e-07\n",
            "Epoch 29: Training Loss = 1.9178227024773757, Validation Loss = 2.3236122936941683\n",
            "Current Learning Rate: 1.0000000000000002e-07\n",
            "Epoch 30: Training Loss = 1.8980088879664738, Validation Loss = 2.3232694203034043\n",
            "Current Learning Rate: 1.0000000000000004e-08\n",
            "Epoch 31: Training Loss = 1.8814646353324254, Validation Loss = 2.3233077358454466\n",
            "Current Learning Rate: 1.0000000000000004e-08\n",
            "Early stopping triggered!\n"
          ]
        },
        {
          "data": {
            "image/png": "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",
            "text/plain": [
              "<Figure size 1000x500 with 1 Axes>"
            ]
          },
          "metadata": {},
          "output_type": "display_data"
        },
        {
          "data": {
            "text/plain": [
              "simpleCNN(\n",
              "  (conv1): Conv2d(3, 64, kernel_size=(3, 3), stride=(1, 1), padding=(1, 1))\n",
              "  (conv2): Conv2d(64, 128, kernel_size=(3, 3), stride=(1, 1), padding=(1, 1))\n",
              "  (conv3): Conv2d(128, 256, kernel_size=(3, 3), stride=(1, 1), padding=(1, 1))\n",
              "  (conv4): Conv2d(256, 512, kernel_size=(3, 3), stride=(1, 1), padding=(1, 1))\n",
              "  (pool): MaxPool2d(kernel_size=2, stride=2, padding=0, dilation=1, ceil_mode=False)\n",
              "  (dropout): Dropout(p=0.5, inplace=False)\n",
              "  (fc1): Linear(in_features=100352, out_features=1024, bias=True)\n",
              "  (fc2): Linear(in_features=1024, out_features=102, bias=True)\n",
              ")"
            ]
          },
          "execution_count": 7,
          "metadata": {},
          "output_type": "execute_result"
        }
      ],
      "source": [
        "\n",
        "model = simpleCNN()\n",
        "model.to(device)  \n",
        "optimizer = optim.Adam(model.parameters(), lr=0.0001)\n",
        "criterion = nn.CrossEntropyLoss()\n",
        "scheduler = optim.lr_scheduler.ReduceLROnPlateau(optimizer, mode='min', factor=0.1, patience=1)\n",
        "\n",
        "train_loader, test_loader, validation_loader = load_flowers102()\n",
        "train_model(model, train_loader, validation_loader, criterion, optimizer, scheduler, patience=5, num_epochs=200)\n"
      ]
    },
    {
      "cell_type": "code",
<<<<<<< Updated upstream
      "execution_count": 22,
=======
      "execution_count": 9,
>>>>>>> Stashed changes
      "id": "1537e0b1",
      "metadata": {
        "colab": {
          "base_uri": "https://localhost:8080/"
        },
        "id": "1537e0b1",
        "outputId": "9d4295f2-3bb1-4d54-f8e2-78844da47b22"
      },
      "outputs": [
        {
          "data": {
            "text/plain": [
              "simpleCNN(\n",
              "  (conv1): Conv2d(3, 64, kernel_size=(3, 3), stride=(1, 1), padding=(1, 1))\n",
              "  (conv2): Conv2d(64, 128, kernel_size=(3, 3), stride=(1, 1), padding=(1, 1))\n",
              "  (conv3): Conv2d(128, 256, kernel_size=(3, 3), stride=(1, 1), padding=(1, 1))\n",
              "  (conv4): Conv2d(256, 512, kernel_size=(3, 3), stride=(1, 1), padding=(1, 1))\n",
              "  (pool): MaxPool2d(kernel_size=2, stride=2, padding=0, dilation=1, ceil_mode=False)\n",
              "  (dropout): Dropout(p=0.5, inplace=False)\n",
              "  (fc1): Linear(in_features=100352, out_features=1024, bias=True)\n",
              "  (fc2): Linear(in_features=1024, out_features=102, bias=True)\n",
              ")"
            ]
          },
<<<<<<< Updated upstream
          "execution_count": 22,
=======
          "execution_count": 9,
>>>>>>> Stashed changes
          "metadata": {},
          "output_type": "execute_result"
        }
      ],
      "source": [
        "model = simpleCNN()\n",
        "model.load_state_dict(torch.load('best_model.pth'))\n",
        "model.to(device)"
      ]
    },
    {
      "cell_type": "code",
      "execution_count": 10,
      "id": "f539cab7",
      "metadata": {
        "colab": {
          "base_uri": "https://localhost:8080/"
        },
        "id": "f539cab7",
        "outputId": "b516740c-d867-480b-a219-e92e56e1242e"
      },
      "outputs": [
        {
          "name": "stdout",
          "output_type": "stream",
          "text": [
            "Accuracy: 40.09%\n"
          ]
        }
      ],
      "source": [
        "test_model(model, test_loader)"
      ]
    },
    {
      "cell_type": "code",
      "execution_count": null,
      "id": "f823e531",
      "metadata": {
        "id": "f823e531"
      },
      "outputs": [],
      "source": [
        "from PIL import Image\n",
        "import torchvision.transforms as transforms\n",
        "\n",
        "def test_single_image(model, image_path, transform):\n",
        "    model.eval()  \n",
        "    image = Image.open(image_path)  \n",
        "    image = transform(image).unsqueeze(0)  \n",
        "    image = image.to(device)  \n",
        "\n",
        "    with torch.no_grad():\n",
        "        outputs = model(image)\n",
        "        _, predicted = torch.max(outputs.data, 1)  \n",
        "    return predicted.item()"
      ]
    },
    {
      "cell_type": "code",
      "execution_count": null,
      "id": "adb153a3",
      "metadata": {
        "id": "adb153a3",
        "outputId": "29d306e0-7844-4a90-9bfa-e3d4fe92a441"
      },
      "outputs": [
        {
          "name": "stdout",
          "output_type": "stream",
          "text": [
            "Predicted Class: 18\n",
            "Actual Class for image_05954.jpg: 67\n"
          ]
        }
      ],
      "source": [
        "image_path = 'flowers102data/flowers-102/jpg/image_05954.jpg'\n",
        "transformTest = transforms.Compose([\n",
        "    transforms.Resize(256),\n",
        "    transforms.CenterCrop(224),\n",
        "    transforms.ToTensor(),\n",
        "    transforms.Normalize(mean=[0.485, 0.456, 0.406], std=[0.229, 0.224, 0.225]),\n",
        "])\n",
        "model.to(device)  \n",
        "predicted_class = test_single_image(model, image_path, transformTest)\n",
        "print(f'Predicted Class: {predicted_class}')\n",
        "\n",
        "\n",
        "import os\n",
        "from scipy.io import loadmat\n",
        "\n",
        "\n",
        "image_directory = 'flowers102data/flowers-102/jpg'\n",
        "label_file = 'imagelabels.mat'\n",
        "\n",
        "\n",
        "image_files = sorted(os.listdir(image_directory))\n",
        "\n",
        "\n",
        "labels_mat = loadmat(label_file)\n",
        "\n",
        "\n",
        "\n",
        "image_name = os.path.basename(image_path)\n",
        "\n",
        "\n",
        "image_index = image_files.index(image_name)\n",
        "\n",
        "actual_label = labels[image_index] -1\n",
        "print(f'Actual Class for {image_name}: {actual_label}')"
      ]
    },
    {
      "cell_type": "code",
      "execution_count": null,
      "id": "c44eb577",
      "metadata": {
        "id": "c44eb577"
      },
      "outputs": [],
      "source": []
    }
  ],
  "metadata": {
    "accelerator": "GPU",
    "colab": {
      "gpuType": "T4",
      "provenance": []
    },
    "kernelspec": {
      "display_name": "Python 3",
      "name": "python3"
    },
    "language_info": {
      "codemirror_mode": {
        "name": "ipython",
        "version": 3
      },
      "file_extension": ".py",
      "mimetype": "text/x-python",
      "name": "python",
      "nbconvert_exporter": "python",
      "pygments_lexer": "ipython3",
      "version": "3.11.4"
    }
  },
  "nbformat": 4,
  "nbformat_minor": 5
}
