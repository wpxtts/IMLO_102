{
  "cells": [
    {
      "cell_type": "code",
      "execution_count": 28,
      "id": "a465839a",
      "metadata": {
        "id": "a465839a"
      },
      "outputs": [],
      "source": [
        "import torch\n",
        "import torch.nn as nn\n",
        "import torch.nn.functional as F\n",
        "import torch.optim as optim\n",
        "import torchvision\n",
        "from torchvision import datasets, transforms\n",
        "from torch.utils.data import DataLoader\n",
        "from PIL import Image\n",
        "import os\n",
        "from torchvision.transforms import RandomErasing\n",
        "from torch.utils.data import ConcatDataset\n",
        "from torchviz import make_dot\n",
        "\n",
        "\n",
        "\n",
        "batch_multi = 0.5\n",
        "\n",
        "def load_flowers102():\n",
        "    \n",
        "    transformTrain1 = transforms.Compose([\n",
        "    transforms.RandomResizedCrop(224),\n",
        "    transforms.RandomHorizontalFlip(),\n",
        "    transforms.RandomVerticalFlip(),\n",
        "    transforms.RandomRotation(30),\n",
        "    transforms.RandomAffine(degrees=0, translate=(0.1, 0.1), scale=(0.8, 1.2)),\n",
        "    transforms.ToTensor(),\n",
        "    transforms.Normalize(mean=[0.485, 0.456, 0.406], std=[0.229, 0.224, 0.225]),\n",
        "])\n",
        "\n",
        "    transformTrain2 = transforms.Compose([\n",
        "    transforms.RandomResizedCrop(224),\n",
        "    transforms.RandomHorizontalFlip(),\n",
        "    transforms.RandomVerticalFlip(),\n",
        "    transforms.RandomRotation(50),\n",
        "    transforms.ColorJitter(brightness=0.2, contrast=0.2, saturation=0.2, hue=0.1),\n",
        "    transforms.GaussianBlur(kernel_size=(3, 3), sigma=(0.1, 1.5)),\n",
        "    transforms.ToTensor(),\n",
        "    transforms.Normalize(mean=[0.485, 0.456, 0.406], std=[0.229, 0.224, 0.225]),\n",
        "])\n",
        "\n",
        "    transformTrain3 = transforms.Compose([\n",
        "    transforms.RandomResizedCrop(224),\n",
        "    transforms.RandomHorizontalFlip(),\n",
        "    transforms.RandomVerticalFlip(),\n",
        "    transforms.RandomRotation(80),\n",
        "    transforms.ColorJitter(brightness=0.2, contrast=0.2, saturation=0.2, hue=0.1),\n",
        "    transforms.RandomAffine(degrees=15, translate=(0.1, 0.1), scale=(0.8, 1.2)),\n",
        "    transforms.RandomPerspective(distortion_scale=0.5, p=0.5),\n",
        "    transforms.ToTensor(),\n",
        "    transforms.Normalize(mean=[0.485, 0.456, 0.406], std=[0.229, 0.224, 0.225]),\n",
        "])\n",
        "\n",
        "    transformTrain4 = transforms.Compose([\n",
        "    transforms.RandomCrop(224),\n",
        "    transforms.RandomHorizontalFlip(),\n",
        "    transforms.ColorJitter(brightness=0.1, contrast=0.1, saturation=0.1),\n",
        "    transforms.ToTensor(),\n",
        "    transforms.Normalize(mean=[0.485, 0.456, 0.406], std=[0.229, 0.224, 0.225]),\n",
        "])\n",
        "\n",
        "# Transform Train 5\n",
        "    transformTrain5 = transforms.Compose([\n",
        "    transforms.CenterCrop(224),\n",
        "    transforms.RandomRotation(60),\n",
        "    transforms.RandomAffine(degrees=20, translate=(0.1, 0.1), scale=(0.8, 1.2)),\n",
        "    transforms.ToTensor(),\n",
        "    transforms.Normalize(mean=[0.485, 0.456, 0.406], std=[0.229, 0.224, 0.225]),\n",
        "])\n",
        "\n",
        "# Transform Train 6\n",
        "    transformTrain6 = transforms.Compose([\n",
        "    transforms.RandomResizedCrop(224),\n",
        "    transforms.RandomGrayscale(p=0.2),\n",
        "    transforms.RandomPerspective(distortion_scale=0.3, p=0.5),\n",
        "    transforms.ToTensor(),\n",
        "    transforms.Normalize(mean=[0.485, 0.456, 0.406], std=[0.229, 0.224, 0.225]),\n",
        "])\n",
        "\n",
        "# Transform Train 7\n",
        "    transformTrain7 = transforms.Compose([\n",
        "    transforms.RandomResizedCrop(224),\n",
        "    transforms.RandomRotation(70),\n",
        "    transforms.ToTensor(),\n",
        "    transforms.Normalize(mean=[0.485, 0.456, 0.406], std=[0.229, 0.224, 0.225]),\n",
        "])\n",
        "\n",
        "# Transform Train 8\n",
        "    transformTrain8 = transforms.Compose([\n",
        "    transforms.Resize(256),\n",
        "    transforms.CenterCrop(224),\n",
        "    transforms.RandomHorizontalFlip(),\n",
        "    transforms.ColorJitter(brightness=0.3, contrast=0.3, saturation=0.3, hue=0.2),\n",
        "    transforms.ToTensor(),\n",
        "    transforms.Normalize(mean=[0.485, 0.456, 0.406], std=[0.229, 0.224, 0.225]),\n",
        "])\n",
        "\n",
        "# Transform Train 9\n",
        "    transformTrain9 = transforms.Compose([\n",
        "    transforms.RandomResizedCrop(224),\n",
        "    transforms.RandomVerticalFlip(),\n",
        "    transforms.GaussianBlur(kernel_size=(3, 3), sigma=(0.1, 1.0)),\n",
        "    transforms.ToTensor(),\n",
        "    transforms.Normalize(mean=[0.485, 0.456, 0.406], std=[0.229, 0.224, 0.225]),\n",
        "])\n",
        "\n",
        "# Transform Train 10\n",
        "    transformTrain10 = transforms.Compose([\n",
        "    transforms.RandomResizedCrop(224),\n",
        "    transforms.RandomRotation(90),\n",
        "    transforms.RandomAffine(degrees=25, translate=(0.1, 0.1), scale=(0.8, 1.2)),\n",
        "    transforms.ToTensor(),\n",
        "    transforms.Normalize(mean=[0.485, 0.456, 0.406], std=[0.229, 0.224, 0.225]),\n",
        "])\n",
        "\n",
        "\n",
        "    transformTest = transforms.Compose([\n",
        "    transforms.Resize(256),\n",
        "    transforms.CenterCrop(224),\n",
        "    transforms.ToTensor(),\n",
        "    transforms.Normalize(mean=[0.485, 0.456, 0.406], std=[0.229, 0.224, 0.225]),\n",
        "])\n",
        "\n",
        "\n",
        "    train_dataset1 = torchvision.datasets.Flowers102(root='flowers102data', split='train', download=True, transform=transformTrain1)\n",
        "    train_dataset2 = torchvision.datasets.Flowers102(root='flowers102data', split='train', download=True, transform=transformTrain2)\n",
        "    train_dataset3 = torchvision.datasets.Flowers102(root='flowers102data', split='train', download=True, transform=transformTrain3)\n",
        "    train_dataset4 = torchvision.datasets.Flowers102(root='flowers102data', split='train', download=True, transform=transformTrain4)\n",
        "    train_dataset5 = torchvision.datasets.Flowers102(root='flowers102data', split='train', download=True, transform=transformTrain5)\n",
        "    train_dataset6 = torchvision.datasets.Flowers102(root='flowers102data', split='train', download=True, transform=transformTrain6)\n",
        "    train_dataset7 = torchvision.datasets.Flowers102(root='flowers102data', split='train', download=True, transform=transformTrain7)\n",
        "    train_dataset8 = torchvision.datasets.Flowers102(root='flowers102data', split='train', download=True, transform=transformTrain8)\n",
        "    train_dataset9 = torchvision.datasets.Flowers102(root='flowers102data', split='train', download=True, transform=transformTrain9)\n",
        "    train_dataset10 = torchvision.datasets.Flowers102(root='flowers102data', split='train', download=True, transform=transformTrain10)\n",
        "    train_dataset = ConcatDataset([train_dataset1, train_dataset2, train_dataset3, train_dataset4, train_dataset5, train_dataset6, train_dataset7, train_dataset8, train_dataset9, train_dataset10])\n",
        "    test_dataset = torchvision.datasets.Flowers102(root='flowers102data', split='test', download=True, transform=transformTest)\n",
        "    validation_dataset = torchvision.datasets.Flowers102(root='flowers102data', split='val', download=True, transform=transformTest)\n",
        "\n",
        "    train_loader = DataLoader(train_dataset, batch_size=int(32 * batch_multi), shuffle=True)\n",
        "    test_loader = DataLoader(test_dataset, batch_size=int(32 * batch_multi), shuffle=False)\n",
        "    validation_loader = DataLoader(validation_dataset, batch_size=int(32 * batch_multi), shuffle=False)\n",
        "\n",
        "    return train_loader, test_loader, validation_loader\n"
      ]
    },
    {
      "cell_type": "code",
      "execution_count": 29,
      "id": "bea7f8df",
      "metadata": {
        "id": "bea7f8df"
      },
      "outputs": [],
      "source": [
        "def set_device():\n",
        "    if torch.cuda.is_available():\n",
        "      print('cuda')\n",
        "      return torch.device(\"cuda\")\n",
        "    if torch.backends.mps.is_available():\n",
        "        return torch.device(\"mps\")\n",
        "    else:\n",
        "        return torch.device(\"cpu\") \n",
        "\n",
        "\n",
        "device = set_device()\n"
      ]
    },
    {
      "cell_type": "code",
      "execution_count": 30,
      "id": "5563d5e7",
      "metadata": {
        "id": "5563d5e7"
      },
      "outputs": [],
      "source": [
        "import torch\n",
        "import torch.nn as nn\n",
        "import torch.nn.functional as F\n",
        "\n",
        "class simpleCNN(nn.Module):\n",
        "    def __init__(self):\n",
        "        super(simpleCNN, self).__init__()\n",
        "        self.conv1 = nn.Conv2d(3, 64, 3, padding=1)\n",
        "        self.conv2 = nn.Conv2d(64, 128, 3, padding=1)\n",
        "        self.conv3 = nn.Conv2d(128, 256, 3, padding=1)\n",
        "        self.conv4 = nn.Conv2d(256, 512, 3, padding=1)\n",
        "        self.pool = nn.MaxPool2d(2, 2)\n",
        "        self.dropout1 = nn.Dropout(0.5)\n",
        "        self.dropout2 = nn.Dropout(0.5)\n",
        "        self.fc1 = nn.Linear(512 * 14 * 14, 1024)  \n",
        "        self.fc2 = nn.Linear(1024, 102)\n",
        "\n",
        "    def forward(self, x):\n",
        "        x = self.pool(F.relu(self.conv1(x)))\n",
        "        x = self.pool(F.relu(self.conv2(x)))\n",
        "        x = self.pool(F.relu(self.conv3(x)))\n",
        "        x = self.pool(F.relu(self.conv4(x)))\n",
        "        x = torch.flatten(x, 1)\n",
        "        x = self.dropout1(x)\n",
        "        x = F.relu(self.fc1(x))\n",
        "        x = self.dropout2(x)\n",
        "        x = self.fc2(x)\n",
        "        return x"
      ]
    },
    {
      "cell_type": "code",
      "execution_count": 31,
      "id": "2debd59a",
      "metadata": {
        "id": "2debd59a"
      },
      "outputs": [],
      "source": [
        "import matplotlib.pyplot as plt\n",
        "\n",
        "def train_model(model, train_loader, validation_loader, criterion, optimizer, scheduler, patience=5, num_epochs=10):\n",
        "    train_losses = []\n",
        "    val_losses = []\n",
        "    best_val_loss = float('inf')\n",
        "    current_patience = 0\n",
        "\n",
        "    for epoch in range(num_epochs):\n",
        "        total_train_loss = 0\n",
        "        total_val_loss = 0\n",
        "\n",
        "        # Training phase\n",
        "        model.train()\n",
        "        for images, labels in train_loader:\n",
        "            images, labels = images.to(device), labels.to(device)\n",
        "            optimizer.zero_grad()\n",
        "            outputs = model(images)\n",
        "            loss = criterion(outputs, labels)\n",
        "            loss.backward()\n",
        "            optimizer.step()\n",
        "            total_train_loss += loss.item()\n",
        "\n",
        "        # Validation phase\n",
        "        model.eval()\n",
        "        with torch.no_grad():\n",
        "            for images, labels in validation_loader:\n",
        "                images, labels = images.to(device), labels.to(device)\n",
        "                outputs = model(images)\n",
        "                loss = criterion(outputs, labels)\n",
        "                total_val_loss += loss.item()\n",
        "\n",
        "        avg_train_loss = total_train_loss / len(train_loader)\n",
        "        avg_val_loss = total_val_loss / len(validation_loader)\n",
        "\n",
        "        train_losses.append(avg_train_loss)\n",
        "        val_losses.append(avg_val_loss)\n",
        "\n",
        "        print(f'Epoch {epoch+1}: Training Loss = {avg_train_loss}, Validation Loss = {avg_val_loss}')\n",
        "\n",
        "\n",
        "        scheduler.step(avg_val_loss)\n",
        "\n",
        "        current_lr = scheduler.optimizer.param_groups[0]['lr']\n",
        "        print(f\"Current Learning Rate: {current_lr}\")\n",
        "\n",
        "\n",
        "        if avg_val_loss < best_val_loss:\n",
        "            best_val_loss = avg_val_loss\n",
        "            current_patience = 0\n",
        "            torch.save(model.state_dict(), 'best_model.pth')\n",
        "        else:\n",
        "            current_patience += 1\n",
        "            if current_patience >= patience:\n",
        "                print(\"Early stopping triggered!\")\n",
        "                break\n",
        "\n",
        "\n",
        "    plt.figure(figsize=(10, 5))\n",
        "    plt.plot(train_losses, label='Training Loss')\n",
        "    plt.plot(val_losses, label='Validation Loss')\n",
        "    plt.title('Training and Validation Losses')\n",
        "    plt.xlabel('Epochs')\n",
        "    plt.ylabel('Loss')\n",
        "    plt.legend()\n",
        "    plt.grid(True)\n",
        "    plt.show()\n",
        "\n",
        "    return model\n"
      ]
    },
    {
      "cell_type": "code",
      "execution_count": 32,
      "id": "0f42c9fd",
      "metadata": {
        "id": "0f42c9fd"
      },
      "outputs": [],
      "source": [
        "def test_model(model, test_loader):\n",
        "    model.eval()  \n",
        "    total_correct = 0\n",
        "    total_images = 0\n",
        "    with torch.no_grad():\n",
        "        for images, labels in test_loader:\n",
        "            images, labels = images.to(device), labels.to(device)  \n",
        "            outputs = model(images)\n",
        "            _, predicted = torch.max(outputs.data, 1)\n",
        "            total_correct += (predicted == labels).sum().item()\n",
        "            total_images += labels.size(0)\n",
        "    print(f'Accuracy: {total_correct / total_images * 100:.2f}%')"
      ]
    },
    {
      "cell_type": "code",
      "execution_count": 33,
      "id": "35c0a66d",
      "metadata": {
        "colab": {
          "base_uri": "https://localhost:8080/",
          "height": 216
        },
        "id": "35c0a66d",
        "outputId": "508879da-3eaa-4c51-8db8-e7d9dbd6a34d",
        "scrolled": false
      },
      "outputs": [
        {
          "name": "stdout",
          "output_type": "stream",
          "text": [
            "Epoch 1: Training Loss = 4.230672543325395, Validation Loss = 3.763831600546837\n",
            "Current Learning Rate: 0.0005\n",
            "Epoch 2: Training Loss = 3.8055019408557857, Validation Loss = 3.4086723905056715\n",
            "Current Learning Rate: 0.0005\n",
            "Epoch 3: Training Loss = 3.496630609969734, Validation Loss = 3.0814699549227953\n",
            "Current Learning Rate: 0.0005\n",
            "Epoch 4: Training Loss = 3.232091913402641, Validation Loss = 2.7533709006384015\n",
            "Current Learning Rate: 0.0005\n",
            "Epoch 5: Training Loss = 2.973453955590538, Validation Loss = 2.597640092484653\n",
            "Current Learning Rate: 0.0005\n",
            "Epoch 6: Training Loss = 2.7645748612649013, Validation Loss = 2.42613799800165\n",
            "Current Learning Rate: 0.0005\n",
            "Epoch 7: Training Loss = 2.6103864243038024, Validation Loss = 2.3108220730209723\n",
            "Current Learning Rate: 0.0005\n",
            "Epoch 8: Training Loss = 2.4958297408486607, Validation Loss = 2.240955639979802\n",
            "Current Learning Rate: 0.0005\n",
            "Epoch 9: Training Loss = 2.3618747756398957, Validation Loss = 2.2172986776567996\n",
            "Current Learning Rate: 0.0005\n",
            "Epoch 10: Training Loss = 2.286335521730883, Validation Loss = 2.1813312846934423\n",
            "Current Learning Rate: 0.0005\n",
            "Epoch 11: Training Loss = 2.159937957798052, Validation Loss = 2.1618515175941866\n",
            "Current Learning Rate: 0.0005\n",
            "Epoch 12: Training Loss = 2.084622165999816, Validation Loss = 2.0734045846911613\n",
            "Current Learning Rate: 0.0005\n",
            "Epoch 13: Training Loss = 2.0071346374888406, Validation Loss = 2.165665988344699\n",
            "Current Learning Rate: 0.0005\n",
            "Epoch 14: Training Loss = 1.955077776154007, Validation Loss = 2.159050603630021\n",
            "Current Learning Rate: 0.0005\n",
            "Epoch 15: Training Loss = 1.8889923486216316, Validation Loss = 2.1005232895113295\n",
            "Current Learning Rate: 5e-05\n",
            "Epoch 16: Training Loss = 1.6886701496043548, Validation Loss = 1.9893988376716152\n",
            "Current Learning Rate: 5e-05\n",
            "Epoch 17: Training Loss = 1.5971277836348197, Validation Loss = 1.991962009051349\n",
            "Current Learning Rate: 5e-05\n",
            "Epoch 18: Training Loss = 1.5704929009780615, Validation Loss = 1.9489036209124606\n",
            "Current Learning Rate: 5e-05\n",
            "Epoch 19: Training Loss = 1.5427050738125385, Validation Loss = 1.9773393035138724\n",
            "Current Learning Rate: 5e-05\n",
            "Epoch 20: Training Loss = 1.5647313486913155, Validation Loss = 1.9896896304526308\n",
            "Current Learning Rate: 5e-05\n",
            "Epoch 21: Training Loss = 1.4975103834953427, Validation Loss = 1.97733459356823\n",
            "Current Learning Rate: 5e-06\n",
            "Epoch 22: Training Loss = 1.4767070952627726, Validation Loss = 1.982958435153705\n",
            "Current Learning Rate: 5e-06\n",
            "Epoch 23: Training Loss = 1.4846753812041775, Validation Loss = 1.983614677854348\n",
            "Current Learning Rate: 5e-06\n",
            "Early stopping triggered!\n"
          ]
        },
        {
          "data": {
            "image/png": "[encoded data removed]",
            "text/plain": [
              "<Figure size 1000x500 with 1 Axes>"
            ]
          },
          "metadata": {},
          "output_type": "display_data"
        },
        {
          "data": {
            "text/plain": [
              "simpleCNN(\n",
              "  (conv1): Conv2d(3, 64, kernel_size=(3, 3), stride=(1, 1), padding=(1, 1))\n",
              "  (conv2): Conv2d(64, 128, kernel_size=(3, 3), stride=(1, 1), padding=(1, 1))\n",
              "  (conv3): Conv2d(128, 256, kernel_size=(3, 3), stride=(1, 1), padding=(1, 1))\n",
              "  (conv4): Conv2d(256, 512, kernel_size=(3, 3), stride=(1, 1), padding=(1, 1))\n",
              "  (pool): MaxPool2d(kernel_size=2, stride=2, padding=0, dilation=1, ceil_mode=False)\n",
              "  (dropout1): Dropout(p=0.5, inplace=False)\n",
              "  (dropout2): Dropout(p=0.5, inplace=False)\n",
              "  (fc1): Linear(in_features=100352, out_features=1024, bias=True)\n",
              "  (fc2): Linear(in_features=1024, out_features=102, bias=True)\n",
              ")"
            ]
          },
          "execution_count": 33,
          "metadata": {},
          "output_type": "execute_result"
        }
      ],
      "source": [
        "\n",
        "model = simpleCNN()\n",
        "model.to(device)  \n",
        "optimizer = optim.Adam(model.parameters(), lr=0.0005)\n",
        "criterion = nn.CrossEntropyLoss()\n",
        "scheduler = optim.lr_scheduler.ReduceLROnPlateau(optimizer, mode='min', factor=0.1, patience=2, verbose=True)\n",
        "\n",
        "train_loader, test_loader, validation_loader = load_flowers102()\n",
        "train_model(model, train_loader, validation_loader, criterion, optimizer, scheduler, patience=5, num_epochs=200)\n"
      ]
    },
    {
      "cell_type": "code",
      "execution_count": 35,
      "id": "1537e0b1",
      "metadata": {
        "colab": {
          "base_uri": "https://localhost:8080/"
        },
        "id": "1537e0b1",
        "outputId": "9d4295f2-3bb1-4d54-f8e2-78844da47b22"
      },
      "outputs": [
        {
          "data": {
            "text/plain": [
              "simpleCNN(\n",
              "  (conv1): Conv2d(3, 64, kernel_size=(3, 3), stride=(1, 1), padding=(1, 1))\n",
              "  (conv2): Conv2d(64, 128, kernel_size=(3, 3), stride=(1, 1), padding=(1, 1))\n",
              "  (conv3): Conv2d(128, 256, kernel_size=(3, 3), stride=(1, 1), padding=(1, 1))\n",
              "  (conv4): Conv2d(256, 512, kernel_size=(3, 3), stride=(1, 1), padding=(1, 1))\n",
              "  (pool): MaxPool2d(kernel_size=2, stride=2, padding=0, dilation=1, ceil_mode=False)\n",
              "  (dropout1): Dropout(p=0.5, inplace=False)\n",
              "  (dropout2): Dropout(p=0.5, inplace=False)\n",
              "  (fc1): Linear(in_features=100352, out_features=1024, bias=True)\n",
              "  (fc2): Linear(in_features=1024, out_features=102, bias=True)\n",
              ")"
            ]
          },
          "execution_count": 35,
          "metadata": {},
          "output_type": "execute_result"
        }
      ],
      "source": [
        "model = simpleCNN()\n",
        "model.load_state_dict(torch.load('best_model.pth'))\n",
        "model.to(device)"
      ]
    },
    {
      "cell_type": "code",
      "execution_count": 36,
      "id": "f539cab7",
      "metadata": {
        "colab": {
          "base_uri": "https://localhost:8080/"
        },
        "id": "f539cab7",
        "outputId": "b516740c-d867-480b-a219-e92e56e1242e"
      },
      "outputs": [
        {
          "name": "stdout",
          "output_type": "stream",
          "text": [
            "Accuracy: 50.27%\n"
          ]
        }
      ],
      "source": [
        "test_model(model, test_loader)"
      ]
    },
    {
      "cell_type": "code",
      "execution_count": null,
      "id": "f823e531",
      "metadata": {
        "id": "f823e531"
      },
      "outputs": [],
      "source": [
        "from PIL import Image\n",
        "import torchvision.transforms as transforms\n",
        "\n",
        "def test_single_image(model, image_path, transform):\n",
        "    model.eval()  \n",
        "    image = Image.open(image_path)  \n",
        "    image = transform(image).unsqueeze(0)  \n",
        "    image = image.to(device)  \n",
        "\n",
        "    with torch.no_grad():\n",
        "        outputs = model(image)\n",
        "        _, predicted = torch.max(outputs.data, 1)  \n",
        "    return predicted.item()"
      ]
    },
    {
      "cell_type": "code",
      "execution_count": null,
      "id": "adb153a3",
      "metadata": {
        "id": "adb153a3",
        "outputId": "29d306e0-7844-4a90-9bfa-e3d4fe92a441"
      },
      "outputs": [
        {
          "name": "stdout",
          "output_type": "stream",
          "text": [
            "Predicted Class: 18\n",
            "Actual Class for image_05954.jpg: 67\n"
          ]
        }
      ],
      "source": [
        "image_path = 'flowers102data/flowers-102/jpg/image_05954.jpg'\n",
        "transformTest = transforms.Compose([\n",
        "    transforms.Resize(256),\n",
        "    transforms.CenterCrop(224),\n",
        "    transforms.ToTensor(),\n",
        "    transforms.Normalize(mean=[0.485, 0.456, 0.406], std=[0.229, 0.224, 0.225]),\n",
        "])\n",
        "model.to(device)  \n",
        "predicted_class = test_single_image(model, image_path, transformTest)\n",
        "print(f'Predicted Class: {predicted_class}')\n",
        "\n",
        "\n",
        "import os\n",
        "from scipy.io import loadmat\n",
        "\n",
        "\n",
        "image_directory = 'flowers102data/flowers-102/jpg'\n",
        "label_file = 'imagelabels.mat'\n",
        "\n",
        "\n",
        "image_files = sorted(os.listdir(image_directory))\n",
        "\n",
        "\n",
        "labels_mat = loadmat(label_file)\n",
        "\n",
        "\n",
        "\n",
        "image_name = os.path.basename(image_path)\n",
        "\n",
        "\n",
        "image_index = image_files.index(image_name)\n",
        "\n",
        "actual_label = labels[image_index] -1\n",
        "print(f'Actual Class for {image_name}: {actual_label}')"
      ]
    },
    {
      "cell_type": "code",
      "execution_count": 34,
      "id": "c44eb577",
      "metadata": {
        "id": "c44eb577"
      },
      "outputs": [
        {
          "name": "stderr",
          "output_type": "stream",
          "text": [
            "python(71626) MallocStackLogging: can't turn off malloc stack logging because it was not enabled.\n"
          ]
        },
        {
          "data": {
            "text/plain": [
              "'model_diagram.png'"
            ]
          },
          "execution_count": 34,
          "metadata": {},
          "output_type": "execute_result"
        }
      ],
      "source": [
        "model = simpleCNN().to(device)\n",
        "dummy_input = torch.randn(1, 3, 224, 224).to(device)\n",
        "output = model(dummy_input)\n",
        "dot = make_dot(output, params=dict(model.named_parameters()))\n",
        "dot.format = 'png'\n",
        "dot.render('model_diagram')"
      ]
    },
    {
      "cell_type": "code",
      "execution_count": null,
      "id": "0791b531",
      "metadata": {},
      "outputs": [],
      "source": []
    }
  ],
  "metadata": {
    "accelerator": "GPU",
    "colab": {
      "gpuType": "T4",
      "provenance": []
    },
    "kernelspec": {
      "display_name": "Python 3",
      "name": "python3"
    },
    "language_info": {
      "codemirror_mode": {
        "name": "ipython",
        "version": 3
      },
      "file_extension": ".py",
      "mimetype": "text/x-python",
      "name": "python",
      "nbconvert_exporter": "python",
      "pygments_lexer": "ipython3",
      "version": "3.11.4"
    }
  },
  "nbformat": 4,
  "nbformat_minor": 5
}
